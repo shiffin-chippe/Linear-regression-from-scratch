{
 "cells": [
  {
   "cell_type": "markdown",
   "metadata": {},
   "source": [
    "# Linear Regression from Scratch"
   ]
  },
  {
   "cell_type": "markdown",
   "metadata": {},
   "source": [
    "## Error Computation"
   ]
  },
  {
   "cell_type": "code",
   "execution_count": 69,
   "metadata": {},
   "outputs": [],
   "source": [
    "import numpy as np\n",
    "def error(b, m, points):\n",
    "    total_error = 0                               #initial error\n",
    "    for i in range(1, len(points)):\n",
    "        x = points[i, 0]                          #the first column is selected{0}\n",
    "        y = points[i, 1]                          #the second column is selected{1}\n",
    "        total_error += pow((y - (m * x + b)),2)   #square the error to make it positive\n",
    "    return total_error/float(len(points))         #return average error"
   ]
  },
  {
   "cell_type": "markdown",
   "metadata": {},
   "source": [
    "## Gradient Descent"
   ]
  },
  {
   "cell_type": "code",
   "execution_count": 70,
   "metadata": {},
   "outputs": [],
   "source": [
    "def step_gradient(initial_b, initial_m,learning_rate,points):\n",
    "    gradient_b = 0\n",
    "    gradient_m = 0\n",
    "    for i in range(1, len(points)):\n",
    "        x = points[i, 0]\n",
    "        y = points[i, 1]\n",
    "        N = float(len(points))\n",
    "        gradient_b += -(2/N) * (y-((initial_m * x) + initial_b))     #partial differentiation of the error with respect to b \n",
    "        gradient_m += -(2/N) * x * (y-((initial_m * x) + initial_b)) #partial differentiation of the error with respect to m\n",
    "    new_b = initial_b - (learning_rate * gradient_b)                 #learning rate decides the step distance it should take\n",
    "    new_m = initial_m - (learning_rate * gradient_m)\n",
    "    return[new_b, new_m]\n"
   ]
  },
  {
   "cell_type": "markdown",
   "metadata": {},
   "source": [
    "## Iterations"
   ]
  },
  {
   "cell_type": "code",
   "execution_count": 71,
   "metadata": {},
   "outputs": [],
   "source": [
    "def gradient_runner(initial_b, initial_m, learning_rate, number_of_iterations,points):\n",
    "    b=initial_b\n",
    "    m=initial_m\n",
    "    for i in range(number_of_iterations):                           #no:of:times the step_gradient should run\n",
    "        b, m = step_gradient(b,m,learning_rate,points)\n",
    "    return[b,m]"
   ]
  },
  {
   "cell_type": "markdown",
   "metadata": {},
   "source": [
    "## Combining the functions"
   ]
  },
  {
   "cell_type": "code",
   "execution_count": 72,
   "metadata": {},
   "outputs": [],
   "source": [
    "def run():\n",
    "    points = np.genfromtxt(\"data.csv\", delimiter=',')\n",
    "    learning_rate = 0.0001\n",
    "    initial_b = 0\n",
    "    initial_m = 0\n",
    "    number_of_iterations = 10\n",
    "    print(\n",
    "        f\"Starting Gradient Descent for the values b={initial_b},m={initial_m},Error={error(initial_b,initial_m,points)},iterations=0\")\n",
    "    print (\"Running...\")\n",
    "    [b, m] = gradient_runner(initial_b, initial_m, learning_rate, number_of_iterations,points)\n",
    "    print (f\"After {number_of_iterations} iterations b = {b}, m = {m}, error = {error(b, m, points)}\")\n",
    "    return[b,m]"
   ]
  },
  {
   "cell_type": "markdown",
   "metadata": {},
   "source": [
    "## Data Visualization"
   ]
  },
  {
   "cell_type": "code",
   "execution_count": 73,
   "metadata": {},
   "outputs": [
    {
     "name": "stdout",
     "output_type": "stream",
     "text": [
      "Starting Gradient Descent for the values b=0,m=0,Error=5510.007756921338,iterations=0\n",
      "Running...\n",
      "After 10 iterations b = 0.029630383249627218, m = 1.4772640915080535, error = 111.54163846419536\n",
      "50 73.8928349586523\n"
     ]
    },
    {
     "data": {
      "text/plain": [
       "<matplotlib.collections.PathCollection at 0x269232e0048>"
      ]
     },
     "execution_count": 73,
     "metadata": {},
     "output_type": "execute_result"
    },
    {
     "data": {
      "image/png": "[encoded data removed]",
      "text/plain": [
       "<Figure size 432x288 with 1 Axes>"
      ]
     },
     "metadata": {
      "needs_background": "light"
     },
     "output_type": "display_data"
    }
   ],
   "source": [
    "import pandas as pd\n",
    "from matplotlib import pyplot as plt\n",
    "df=pd.read_csv('data.csv')\n",
    "b,m= run()\n",
    "v=((m*df.x)+b)\n",
    "plt.plot(df.x,v)\n",
    "plt.scatter(df.x,df.y)\n",
    "#Enter a value for x and the predicted output is obtained\n",
    "input_x=50\n",
    "output_y=(m*input_x)+b\n",
    "print(input_x,output_y)\n",
    "plt.scatter(input_x,output_y)"
   ]
  }
 ],
 "metadata": {
  "kernelspec": {
   "display_name": "Python 3",
   "language": "python",
   "name": "python3"
  },
  "language_info": {
   "codemirror_mode": {
    "name": "ipython",
    "version": 3
   },
   "file_extension": ".py",
   "mimetype": "text/x-python",
   "name": "python",
   "nbconvert_exporter": "python",
   "pygments_lexer": "ipython3",
   "version": "3.7.2"
  }
 },
 "nbformat": 4,
 "nbformat_minor": 2
}
